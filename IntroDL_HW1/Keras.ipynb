{
  "cells": [
    {
      "cell_type": "markdown",
      "metadata": {
        "id": "g7uk8yWkokGr"
      },
      "source": [
        "# Dataset\n",
        "https://www.tensorflow.org/api_docs/python/tf/keras/datasets"
      ]
    },
    {
      "cell_type": "code",
      "execution_count": null,
      "metadata": {
        "id": "nVALD1hFofRY"
      },
      "outputs": [],
      "source": [
        "from tensorflow.keras import datasets\n",
        "from tensorflow.keras.utils import to_categorical\n",
        "import matplotlib.pyplot as plt\n",
        "import numpy as np"
      ]
    },
    {
      "cell_type": "markdown",
      "metadata": {
        "id": "gWTHXi1ep0we"
      },
      "source": [
        "## MNIST\n",
        "https://www.tensorflow.org/api_docs/python/tf/keras/datasets/mnist/load_data"
      ]
    },
    {
      "cell_type": "markdown",
      "metadata": {
        "id": "EkSbYJzHym6E"
      },
      "source": [
        "### Loading dataset and Coverting labels to categorical form\n",
        "https://www.tensorflow.org/api_docs/python/tf/keras/utils/to_categorical"
      ]
    },
    {
      "cell_type": "code",
      "execution_count": null,
      "metadata": {
        "id": "G_QUf-nTpNLP",
        "colab": {
          "base_uri": "https://localhost:8080/"
        },
        "outputId": "723d5a20-1d9b-4463-8229-7ce836b1eddd"
      },
      "outputs": [
        {
          "output_type": "stream",
          "name": "stdout",
          "text": [
            "Downloading data from https://storage.googleapis.com/tensorflow/tf-keras-datasets/mnist.npz\n",
            "11490434/11490434 [==============================] - 0s 0us/step\n"
          ]
        }
      ],
      "source": [
        "(x_train_1, y_train_1), (x_test_1, y_test_1) = datasets.mnist.load_data()\n",
        "y_train_1 = to_categorical(y_train_1, num_classes=10)\n",
        "y_test_1 = to_categorical(y_test_1, num_classes=10)"
      ]
    },
    {
      "cell_type": "markdown",
      "metadata": {
        "id": "AsBhGMkvyFGN"
      },
      "source": [
        "### Train and Test data shapes"
      ]
    },
    {
      "cell_type": "code",
      "execution_count": null,
      "metadata": {
        "id": "jVvjb6sLph_z",
        "colab": {
          "base_uri": "https://localhost:8080/"
        },
        "outputId": "8442f0f9-18e7-4c2a-e95b-4d2e6f56963e"
      },
      "outputs": [
        {
          "output_type": "stream",
          "name": "stdout",
          "text": [
            "(60000, 28, 28)\n",
            "(60000, 10)\n"
          ]
        }
      ],
      "source": [
        "print(x_train_1.shape)\n",
        "print(y_train_1.shape)"
      ]
    },
    {
      "cell_type": "code",
      "execution_count": null,
      "metadata": {
        "id": "NygMmPNZpqk6",
        "colab": {
          "base_uri": "https://localhost:8080/"
        },
        "outputId": "cba43ca6-8a59-4e5e-85a1-a71872662c3a"
      },
      "outputs": [
        {
          "output_type": "stream",
          "name": "stdout",
          "text": [
            "(10000, 28, 28)\n",
            "(10000, 10)\n"
          ]
        }
      ],
      "source": [
        "print(x_test_1.shape)\n",
        "print(y_test_1.shape)"
      ]
    },
    {
      "cell_type": "markdown",
      "metadata": {
        "id": "ueAuBtxtzBk3"
      },
      "source": [
        "### Showing one of the dataset examples"
      ]
    },
    {
      "cell_type": "code",
      "execution_count": null,
      "metadata": {
        "id": "06kEayfrqgzM",
        "colab": {
          "base_uri": "https://localhost:8080/",
          "height": 447
        },
        "outputId": "a5914f8b-58fa-4f24-f192-bb1b86e91e08"
      },
      "outputs": [
        {
          "output_type": "execute_result",
          "data": {
            "text/plain": [
              "<matplotlib.image.AxesImage at 0x7b87bfab1f00>"
            ]
          },
          "metadata": {},
          "execution_count": 5
        },
        {
          "output_type": "display_data",
          "data": {
            "text/plain": [
              "<Figure size 640x480 with 1 Axes>"
            ],
            "image/png": "[encoded data removed]"
          },
          "metadata": {}
        }
      ],
      "source": [
        "index = 0\n",
        "fig, (ax1) = plt.subplots(1, 1)\n",
        "ax1.imshow(x_train_1[index])"
      ]
    },
    {
      "cell_type": "markdown",
      "metadata": {
        "id": "VIVa8A4Oun6c"
      },
      "source": [
        "# Model\n",
        "https://www.tensorflow.org/api_docs/python/tf/keras/models\n",
        "\n",
        "https://www.tensorflow.org/api_docs/python/tf/keras/layers\n"
      ]
    },
    {
      "cell_type": "code",
      "execution_count": null,
      "metadata": {
        "id": "JYhftIS6wH4h"
      },
      "outputs": [],
      "source": [
        "from tensorflow.keras import layers\n",
        "from tensorflow.keras.utils import plot_model"
      ]
    },
    {
      "cell_type": "markdown",
      "metadata": {
        "id": "_d0F574OviHF"
      },
      "source": [
        "## Sequential\n",
        "https://www.tensorflow.org/guide/keras/sequential_model"
      ]
    },
    {
      "cell_type": "code",
      "execution_count": null,
      "metadata": {
        "id": "k1-msOy3vdZd"
      },
      "outputs": [],
      "source": [
        "from tensorflow.keras.models import Sequential"
      ]
    },
    {
      "cell_type": "code",
      "execution_count": null,
      "metadata": {
        "id": "CJQZG6AAvs70"
      },
      "outputs": [],
      "source": [
        "model_temp_1 = Sequential()\n",
        "\n",
        "model_temp_1.add(layers.Input(shape=(50, 50)))\n",
        "\n",
        "model_temp_1.add(layers.Flatten())\n",
        "\n",
        "\n",
        "model_temp_1.add(layers.Dense(256, activation='relu'))\n",
        "\n",
        "model_temp_1.add(layers.Dense(128, activation='relu'))\n",
        "\n",
        "\n",
        "model_temp_1.add(layers.Dense(5, activation='softmax'))"
      ]
    },
    {
      "cell_type": "markdown",
      "metadata": {
        "id": "wh621fXMUaYR"
      },
      "source": [
        "### Model Summary\n",
        "https://www.tensorflow.org/js/guide/models_and_layers#model_summary"
      ]
    },
    {
      "cell_type": "code",
      "execution_count": null,
      "metadata": {
        "id": "4UnIk6sGxLNh",
        "colab": {
          "base_uri": "https://localhost:8080/"
        },
        "outputId": "fc77ebe0-c351-4a92-ec28-6642e63f0e7b"
      },
      "outputs": [
        {
          "output_type": "stream",
          "name": "stdout",
          "text": [
            "Model: \"sequential\"\n",
            "_________________________________________________________________\n",
            " Layer (type)                Output Shape              Param #   \n",
            "=================================================================\n",
            " flatten (Flatten)           (None, 2500)              0         \n",
            "                                                                 \n",
            " dense (Dense)               (None, 256)               640256    \n",
            "                                                                 \n",
            " dense_1 (Dense)             (None, 128)               32896     \n",
            "                                                                 \n",
            " dense_2 (Dense)             (None, 5)                 645       \n",
            "                                                                 \n",
            "=================================================================\n",
            "Total params: 673797 (2.57 MB)\n",
            "Trainable params: 673797 (2.57 MB)\n",
            "Non-trainable params: 0 (0.00 Byte)\n",
            "_________________________________________________________________\n"
          ]
        }
      ],
      "source": [
        "model_temp_1.summary()"
      ]
    },
    {
      "cell_type": "markdown",
      "metadata": {
        "id": "5cLKoVBwWoab"
      },
      "source": [
        "### Plotting Model and Save it as **structure_1.png**\n",
        "https://www.tensorflow.org/api_docs/python/tf/keras/utils/plot_model"
      ]
    },
    {
      "cell_type": "code",
      "execution_count": null,
      "metadata": {
        "id": "SyCzEMRYxLMC",
        "colab": {
          "base_uri": "https://localhost:8080/",
          "height": 533
        },
        "outputId": "ba8adcdc-face-4809-8fc1-9a977a763b4c"
      },
      "outputs": [
        {
          "output_type": "execute_result",
          "data": {
            "image/png": "[encoded data removed]",
            "text/plain": [
              "<IPython.core.display.Image object>"
            ]
          },
          "metadata": {},
          "execution_count": 10
        }
      ],
      "source": [
        "plot_model(\n",
        "    model_temp_1,\n",
        "    to_file=\"structure_1.png\",\n",
        "    show_shapes=True,\n",
        "    show_layer_names=True,\n",
        ")"
      ]
    },
    {
      "cell_type": "markdown",
      "metadata": {
        "id": "a3fGzxhuvlmB"
      },
      "source": [
        "## Functional API\n",
        "https://www.tensorflow.org/guide/keras/functional"
      ]
    },
    {
      "cell_type": "code",
      "execution_count": null,
      "metadata": {
        "id": "zJf3UzRzvqAX"
      },
      "outputs": [],
      "source": [
        "from tensorflow.keras.models import Model"
      ]
    },
    {
      "cell_type": "code",
      "execution_count": null,
      "metadata": {
        "id": "issu4z2mzlpD"
      },
      "outputs": [],
      "source": [
        "def model_factory(input_shape, num_classes):\n",
        "\n",
        "  input_layer = layers.Input(shape=input_shape)\n",
        "\n",
        "  flatten_layer = layers.Flatten()(input_layer)\n",
        "\n",
        "  hidden_layer1 = layers.Dense(256, activation='relu')(flatten_layer)\n",
        "  hidden_layer2 = layers.Dense(128, activation='relu')(hidden_layer1)\n",
        "\n",
        "  output_layer = layers.Dense(num_classes, activation='softmax')(hidden_layer2)\n",
        "\n",
        "  return Model(inputs=input_layer, outputs=output_layer)"
      ]
    },
    {
      "cell_type": "code",
      "execution_count": null,
      "metadata": {
        "id": "cyiFUQEx1DPw"
      },
      "outputs": [],
      "source": [
        "model_template_2 = model_factory(\n",
        "    input_shape=(50, 50),\n",
        "    num_classes=5,\n",
        ")"
      ]
    },
    {
      "cell_type": "markdown",
      "metadata": {
        "id": "fryM17I8YqmD"
      },
      "source": [
        "### Model Summary"
      ]
    },
    {
      "cell_type": "code",
      "execution_count": null,
      "metadata": {
        "id": "ZdHqhV1W1P_6",
        "colab": {
          "base_uri": "https://localhost:8080/"
        },
        "outputId": "285e35f6-0cc1-4000-934f-e86aa176026d"
      },
      "outputs": [
        {
          "output_type": "stream",
          "name": "stdout",
          "text": [
            "Model: \"model\"\n",
            "_________________________________________________________________\n",
            " Layer (type)                Output Shape              Param #   \n",
            "=================================================================\n",
            " input_2 (InputLayer)        [(None, 50, 50)]          0         \n",
            "                                                                 \n",
            " flatten_1 (Flatten)         (None, 2500)              0         \n",
            "                                                                 \n",
            " dense_3 (Dense)             (None, 256)               640256    \n",
            "                                                                 \n",
            " dense_4 (Dense)             (None, 128)               32896     \n",
            "                                                                 \n",
            " dense_5 (Dense)             (None, 5)                 645       \n",
            "                                                                 \n",
            "=================================================================\n",
            "Total params: 673797 (2.57 MB)\n",
            "Trainable params: 673797 (2.57 MB)\n",
            "Non-trainable params: 0 (0.00 Byte)\n",
            "_________________________________________________________________\n"
          ]
        }
      ],
      "source": [
        "model_template_2.summary()"
      ]
    },
    {
      "cell_type": "markdown",
      "metadata": {
        "id": "Il7CnnQfYtFB"
      },
      "source": [
        "### Plotting Model and Save it as **structure_2.png**"
      ]
    },
    {
      "cell_type": "code",
      "execution_count": null,
      "metadata": {
        "id": "hsAMlz221RCb",
        "colab": {
          "base_uri": "https://localhost:8080/",
          "height": 533
        },
        "outputId": "3f08813f-d345-493c-ea09-f7b9a3d2f7a5"
      },
      "outputs": [
        {
          "output_type": "execute_result",
          "data": {
            "image/png": "[encoded data removed]",
            "text/plain": [
              "<IPython.core.display.Image object>"
            ]
          },
          "metadata": {},
          "execution_count": 15
        }
      ],
      "source": [
        "plot_model(\n",
        "    model_template_2,\n",
        "    to_file=\"structure_2.png\",\n",
        "    show_shapes=True,\n",
        "    show_layer_names=True,\n",
        ")"
      ]
    },
    {
      "cell_type": "markdown",
      "metadata": {
        "id": "X_k-PnIx7JTi"
      },
      "source": [
        "## Optimizers and Loss\n",
        "https://www.tensorflow.org/api_docs/python/tf/keras/optimizers/SGD\n",
        "\n",
        "https://www.tensorflow.org/api_docs/python/tf/keras/losses"
      ]
    },
    {
      "cell_type": "code",
      "execution_count": null,
      "metadata": {
        "id": "Ibu8V5AB7Rrb"
      },
      "outputs": [],
      "source": [
        "from tensorflow.keras.optimizers import SGD"
      ]
    },
    {
      "cell_type": "code",
      "execution_count": null,
      "metadata": {
        "id": "jd4JS7mX7P69"
      },
      "outputs": [],
      "source": [
        "sgd_optimizer = SGD(learning_rate=0.001)"
      ]
    },
    {
      "cell_type": "markdown",
      "metadata": {
        "id": "p52dlnj645YI"
      },
      "source": [
        "## Compile, Fit and Evaluation\n",
        "https://www.tensorflow.org/api_docs/python/tf/keras/Model#compile\n",
        "\n",
        "https://www.tensorflow.org/api_docs/python/tf/keras/Model#fit\n",
        "\n",
        "https://www.tensorflow.org/api_docs/python/tf/keras/Model#evaluate\n",
        "\n",
        "https://keras.io/api/models/model_training_apis/#predict-method"
      ]
    },
    {
      "cell_type": "markdown",
      "metadata": {
        "id": "Qj97C2Ie6d49"
      },
      "source": [
        "### MNIST"
      ]
    },
    {
      "cell_type": "code",
      "execution_count": null,
      "metadata": {
        "id": "geDiiuHU47VI",
        "colab": {
          "base_uri": "https://localhost:8080/"
        },
        "outputId": "360d2066-5b54-4bfa-d860-91c4e383811c"
      },
      "outputs": [
        {
          "output_type": "stream",
          "name": "stdout",
          "text": [
            "Epoch 1/10\n",
            "750/750 [==============================] - 6s 6ms/step - loss: 2.1348 - accuracy: 0.8059 - val_loss: 0.5002 - val_accuracy: 0.8738\n",
            "Epoch 2/10\n",
            "750/750 [==============================] - 4s 6ms/step - loss: 0.4223 - accuracy: 0.8934 - val_loss: 0.3880 - val_accuracy: 0.9072\n",
            "Epoch 3/10\n",
            "750/750 [==============================] - 5s 6ms/step - loss: 0.3086 - accuracy: 0.9165 - val_loss: 0.3309 - val_accuracy: 0.9170\n",
            "Epoch 4/10\n",
            "750/750 [==============================] - 3s 5ms/step - loss: 0.2476 - accuracy: 0.9299 - val_loss: 0.3192 - val_accuracy: 0.9251\n",
            "Epoch 5/10\n",
            "750/750 [==============================] - 4s 5ms/step - loss: 0.2090 - accuracy: 0.9393 - val_loss: 0.3001 - val_accuracy: 0.9296\n",
            "Epoch 6/10\n",
            "750/750 [==============================] - 5s 6ms/step - loss: 0.1828 - accuracy: 0.9467 - val_loss: 0.2813 - val_accuracy: 0.9317\n",
            "Epoch 7/10\n",
            "750/750 [==============================] - 4s 5ms/step - loss: 0.1608 - accuracy: 0.9522 - val_loss: 0.2749 - val_accuracy: 0.9349\n",
            "Epoch 8/10\n",
            "750/750 [==============================] - 3s 4ms/step - loss: 0.1444 - accuracy: 0.9567 - val_loss: 0.2655 - val_accuracy: 0.9367\n",
            "Epoch 9/10\n",
            "750/750 [==============================] - 4s 6ms/step - loss: 0.1293 - accuracy: 0.9607 - val_loss: 0.2591 - val_accuracy: 0.9384\n",
            "Epoch 10/10\n",
            "750/750 [==============================] - 4s 5ms/step - loss: 0.1184 - accuracy: 0.9644 - val_loss: 0.2550 - val_accuracy: 0.9400\n"
          ]
        }
      ],
      "source": [
        "model_mnist = model_factory(\n",
        "    input_shape=(28, 28),\n",
        "    num_classes=10,\n",
        ")\n",
        "\n",
        "model_mnist.compile(optimizer=sgd_optimizer, loss='categorical_crossentropy', metrics=['accuracy'])\n",
        "\n",
        "\n",
        "history = model_mnist.fit(x_train_1, y_train_1, batch_size=64, epochs=10, validation_split=0.2)"
      ]
    },
    {
      "cell_type": "markdown",
      "metadata": {
        "id": "tD4ee660soz1"
      },
      "source": [
        "#### Plotting model Loss and Accuracy on train and validation sets per epoch"
      ]
    },
    {
      "cell_type": "code",
      "execution_count": null,
      "metadata": {
        "id": "cEdazOlB_Nwm",
        "colab": {
          "base_uri": "https://localhost:8080/",
          "height": 489
        },
        "outputId": "bbc7c4bd-5560-4f7a-8b57-165f5fdd0ca5"
      },
      "outputs": [
        {
          "output_type": "execute_result",
          "data": {
            "text/plain": [
              "<matplotlib.legend.Legend at 0x7b87b681fa90>"
            ]
          },
          "metadata": {},
          "execution_count": 19
        },
        {
          "output_type": "display_data",
          "data": {
            "text/plain": [
              "<Figure size 640x480 with 2 Axes>"
            ],
            "image/png": "[encoded data removed]"
          },
          "metadata": {}
        }
      ],
      "source": [
        "fig, (ax1, ax2) = plt.subplots(1, 2)\n",
        "\n",
        "ax1.plot(history.history['accuracy'])\n",
        "ax1.plot(history.history['val_accuracy'])\n",
        "ax1.set_title('Model accuracy')\n",
        "ax1.set_ylabel('accuracy')\n",
        "ax1.set_xlabel('epoch')\n",
        "ax1.legend(['training', 'validation'], loc='lower right')\n",
        "\n",
        "ax2.plot(history.history['loss'])\n",
        "ax2.plot(history.history['val_loss'])\n",
        "ax2.set_title('Model loss')\n",
        "ax2.set_ylabel('loss')\n",
        "ax2.set_xlabel('epoch')\n",
        "ax2.legend(['training', 'validation'], loc='upper right')"
      ]
    },
    {
      "cell_type": "markdown",
      "metadata": {
        "id": "Fl9Ux9FWt4Zb"
      },
      "source": [
        "#### Evaluating Test set"
      ]
    },
    {
      "cell_type": "code",
      "execution_count": null,
      "metadata": {
        "id": "8LZQk6Tm8wCg",
        "colab": {
          "base_uri": "https://localhost:8080/"
        },
        "outputId": "9b6c5279-75cf-4635-b81a-b1706757ac84"
      },
      "outputs": [
        {
          "output_type": "stream",
          "name": "stdout",
          "text": [
            "313/313 [==============================] - 1s 2ms/step - loss: 0.2741 - accuracy: 0.9367\n"
          ]
        },
        {
          "output_type": "execute_result",
          "data": {
            "text/plain": [
              "[0.27409377694129944, 0.9366999864578247]"
            ]
          },
          "metadata": {},
          "execution_count": 20
        }
      ],
      "source": [
        "model_mnist.evaluate(x_test_1, y_test_1)"
      ]
    },
    {
      "cell_type": "markdown",
      "metadata": {
        "id": "5zN0uxmeu-Ru"
      },
      "source": [
        "#### Predicting Some samples from Test set"
      ]
    },
    {
      "cell_type": "code",
      "source": [
        "sample_predictions = model_mnist.predict(x_test_1[:3])\n",
        "\n",
        "# Convert one-hot encoded predictions to integer labels\n",
        "sample_predictions_int = np.argmax(sample_predictions, axis=1)\n",
        "\n",
        "print(\"Predictions for the first three test samples:\")\n",
        "for i, prediction in enumerate(sample_predictions_int):\n",
        "    print(f\"Sample {i+1}: Predicted Label: {prediction}, Actual Label: {np.argmax(y_test_1, axis=1)[i]}\")"
      ],
      "metadata": {
        "id": "4kQEWwUaNts9",
        "outputId": "5a9b1f71-ad52-45e8-f150-8cd9b2f1252d",
        "colab": {
          "base_uri": "https://localhost:8080/"
        }
      },
      "execution_count": null,
      "outputs": [
        {
          "output_type": "stream",
          "name": "stdout",
          "text": [
            "1/1 [==============================] - 0s 109ms/step\n",
            "Predictions for the first three test samples:\n",
            "Sample 1: Predicted Label: 7, Actual Label: 7\n",
            "Sample 2: Predicted Label: 2, Actual Label: 2\n",
            "Sample 3: Predicted Label: 1, Actual Label: 1\n"
          ]
        }
      ]
    }
  ],
  "metadata": {
    "colab": {
      "provenance": [],
      "gpuType": "T4"
    },
    "kernelspec": {
      "display_name": "Python 3",
      "name": "python3"
    },
    "language_info": {
      "codemirror_mode": {
        "name": "ipython",
        "version": 3
      },
      "file_extension": ".py",
      "mimetype": "text/x-python",
      "name": "python",
      "nbconvert_exporter": "python",
      "pygments_lexer": "ipython3",
      "version": "3.10.12"
    },
    "accelerator": "GPU"
  },
  "nbformat": 4,
  "nbformat_minor": 0
}