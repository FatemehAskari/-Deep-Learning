{
 "cells": [
  {
   "cell_type": "code",
   "execution_count": 3,
   "metadata": {},
   "outputs": [],
   "source": [
    "import torch\n",
    "import torch.nn as nn\n",
    "import torchvision\n",
    "from torchvision.transforms import ToTensor"
   ]
  },
  {
   "cell_type": "code",
   "execution_count": 5,
   "metadata": {},
   "outputs": [],
   "source": [
    "train_dataset = torchvision.datasets.MNIST(root='./data', train=True, transform=ToTensor(), download=True)\n",
    "test_dataset = torchvision.datasets.MNIST(root='./data', train=False, transform=ToTensor(), download=True)"
   ]
  },
  {
   "cell_type": "code",
   "execution_count": 9,
   "metadata": {},
   "outputs": [],
   "source": [
    "# Define the CNN model using 1x1 filters\n",
    "class CNNModel(nn.Module):\n",
    "    def __init__(self):\n",
    "        super(CNNModel, self).__init__()\n",
    "        self.conv1 = nn.Conv2d(1, 16, kernel_size=1)\n",
    "        self.relu = nn.ReLU()\n",
    "        self.conv2 = nn.Conv2d(16, 32, kernel_size=1)\n",
    "        self.flatten = nn.Flatten()\n",
    "        self.fc = nn.Linear(32 * 28 * 28, 10)\n",
    "\n",
    "    def forward(self, x):\n",
    "        out = self.conv1(x)\n",
    "        print(\"Dimensions after Conv1 layer:\", out.shape)\n",
    "        out = self.relu(out)\n",
    "        out = self.conv2(out)\n",
    "        print(\"Dimensions after Conv2 layer:\", out.shape)\n",
    "        out = self.relu(out)\n",
    "        out = self.flatten(out)\n",
    "        out = self.fc(out)\n",
    "        print(\"Dimensions after FC layer:\", out.shape)\n",
    "        return out"
   ]
  },
  {
   "cell_type": "code",
   "execution_count": 10,
   "metadata": {},
   "outputs": [],
   "source": [
    "model = CNNModel()"
   ]
  },
  {
   "cell_type": "code",
   "execution_count": 11,
   "metadata": {},
   "outputs": [
    {
     "name": "stdout",
     "output_type": "stream",
     "text": [
      "Dimensions after Conv1 layer: torch.Size([1, 16, 28, 28])\n",
      "Dimensions after Conv2 layer: torch.Size([1, 32, 28, 28])\n",
      "Dimensions after FC layer: torch.Size([1, 10])\n",
      "Dimensions of the input image: torch.Size([1, 1, 28, 28])\n",
      "Dimensions of the output: torch.Size([1, 10])\n"
     ]
    }
   ],
   "source": [
    "# Input image\n",
    "input_image = train_dataset[0][0].unsqueeze(0)  # Select one image from the MNIST dataset and add batch dimension\n",
    "\n",
    "# Run the input image through the model\n",
    "output = model(input_image)\n",
    "\n",
    "# Print the dimensions of the input image and output\n",
    "print(\"Dimensions of the input image:\", input_image.shape)\n",
    "print(\"Dimensions of the output:\", output.shape)"
   ]
  }
 ],
 "metadata": {
  "kernelspec": {
   "display_name": "Python 3",
   "language": "python",
   "name": "python3"
  },
  "language_info": {
   "codemirror_mode": {
    "name": "ipython",
    "version": 3
   },
   "file_extension": ".py",
   "mimetype": "text/x-python",
   "name": "python",
   "nbconvert_exporter": "python",
   "pygments_lexer": "ipython3",
   "version": "3.11.2"
  }
 },
 "nbformat": 4,
 "nbformat_minor": 2
}
