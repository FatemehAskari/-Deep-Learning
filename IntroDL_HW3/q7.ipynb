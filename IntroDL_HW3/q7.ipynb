{
  "nbformat": 4,
  "nbformat_minor": 0,
  "metadata": {
    "colab": {
      "provenance": [],
      "gpuType": "T4"
    },
    "kernelspec": {
      "name": "python3",
      "display_name": "Python 3"
    },
    "language_info": {
      "name": "python"
    },
    "accelerator": "GPU"
  },
  "cells": [
    {
      "cell_type": "code",
      "execution_count": 1,
      "metadata": {
        "id": "KFaFH7DNXrtd"
      },
      "outputs": [],
      "source": [
        "import tensorflow as tf\n",
        "from tensorflow.keras.applications.inception_v3 import InceptionV3\n",
        "from tensorflow.keras.layers import Dense, GlobalAveragePooling2D\n",
        "from tensorflow.keras.models import Model\n",
        "from tensorflow.keras.optimizers import Adam\n",
        "from tensorflow.keras.preprocessing.image import ImageDataGenerator"
      ]
    },
    {
      "cell_type": "code",
      "source": [
        "image_size = (32, 32)\n",
        "batch_size = 32\n",
        "num_classes = 10\n",
        "epochs = 10\n",
        "learning_rate = 0.001"
      ],
      "metadata": {
        "id": "lDvuBE9CYTCU"
      },
      "execution_count": 2,
      "outputs": []
    },
    {
      "cell_type": "code",
      "source": [
        "base_model = InceptionV3(include_top=False, weights='imagenet', input_shape=(75, 75, 3))\n",
        "x = base_model.output\n",
        "x = GlobalAveragePooling2D()(x)\n",
        "x = Dense(1024, activation='relu')(x)\n",
        "x = Dense(512, activation='relu')(x)\n",
        "x = Dense(256, activation='relu')(x)\n",
        "predictions = Dense(10, activation='softmax')(x)\n",
        "\n",
        "model = Model(inputs=base_model.input, outputs=predictions)\n",
        "\n",
        "model = Model(inputs=base_model.input, outputs=predictions)\n",
        "for layer in base_model.layers:\n",
        "    layer.trainable = False"
      ],
      "metadata": {
        "id": "MlUZXKV0YWPy"
      },
      "execution_count": 3,
      "outputs": []
    },
    {
      "cell_type": "code",
      "source": [
        "model.compile(optimizer='adam', loss='categorical_crossentropy', metrics=['accuracy'])"
      ],
      "metadata": {
        "id": "t4kmbs5rYqSJ"
      },
      "execution_count": 4,
      "outputs": []
    },
    {
      "cell_type": "code",
      "source": [
        "from tensorflow import keras\n",
        "import cv2\n",
        "import numpy as np\n",
        "\n",
        "(train_dataset, train_labels), (test_dataset, test_labels) = keras.datasets.cifar10.load_data()\n",
        "\n",
        "resized_train_dataset = []\n",
        "for image in train_dataset:\n",
        "    resized_image = cv2.resize(image, (75, 75))\n",
        "    resized_train_dataset.append(resized_image)\n",
        "resized_train_dataset = np.array(resized_train_dataset)\n",
        "\n",
        "resized_test_dataset = []\n",
        "for image in test_dataset:\n",
        "    resized_image = cv2.resize(image, (75, 75))\n",
        "    resized_test_dataset.append(resized_image)\n",
        "resized_test_dataset = np.array(resized_test_dataset)\n",
        "\n",
        "train_dataset = resized_train_dataset.astype('float32') / 255.0\n",
        "test_dataset = resized_test_dataset.astype('float32') / 255.0"
      ],
      "metadata": {
        "id": "QvkicYKzYwjV"
      },
      "execution_count": 5,
      "outputs": []
    },
    {
      "cell_type": "code",
      "source": [
        "train_labels = keras.utils.to_categorical(train_labels, num_classes)\n",
        "test_labels = keras.utils.to_categorical(test_labels, num_classes)"
      ],
      "metadata": {
        "id": "mnrVsXwRZq2V"
      },
      "execution_count": 6,
      "outputs": []
    },
    {
      "cell_type": "code",
      "source": [
        "print(train_dataset.shape)"
      ],
      "metadata": {
        "colab": {
          "base_uri": "https://localhost:8080/"
        },
        "id": "7GN5InF3Zz7M",
        "outputId": "f7749b7f-b410-4442-e3a1-6d9ce3d19109"
      },
      "execution_count": 7,
      "outputs": [
        {
          "output_type": "stream",
          "name": "stdout",
          "text": [
            "(50000, 75, 75, 3)\n"
          ]
        }
      ]
    },
    {
      "cell_type": "code",
      "source": [
        "class DataGenerator(keras.utils.Sequence):\n",
        "    def __init__(self, dataset, labels, batch_size, image_size):\n",
        "        self.dataset = dataset\n",
        "        self.labels = labels\n",
        "        self.batch_size = batch_size\n",
        "        self.image_size = image_size\n",
        "\n",
        "    def __len__(self):\n",
        "        return int(np.ceil(len(self.dataset) / self.batch_size))\n",
        "\n",
        "    def __getitem__(self, index):\n",
        "        batch_x = self.dataset[index * self.batch_size:(index + 1) * self.batch_size]\n",
        "        batch_y = self.labels[index * self.batch_size:(index + 1) * self.batch_size]\n",
        "\n",
        "        resized_images = []\n",
        "        for image in batch_x:\n",
        "            resized_image = cv2.resize(image, self.image_size)\n",
        "            resized_images.append(resized_image)\n",
        "        resized_images = np.array(resized_images)\n",
        "\n",
        "        return resized_images / 255.0, batch_y\n",
        "\n",
        "batch_size = 32\n",
        "train_generator = DataGenerator(train_dataset, train_labels, batch_size, (75, 75))\n",
        "test_generator = DataGenerator(test_dataset, test_labels, batch_size, (75, 75))"
      ],
      "metadata": {
        "id": "Gh4mcYKqb_dO"
      },
      "execution_count": 8,
      "outputs": []
    },
    {
      "cell_type": "code",
      "source": [
        "batch_size = 32\n",
        "train_generator = DataGenerator(train_dataset, train_labels, batch_size, (75, 75))\n",
        "test_generator = DataGenerator(test_dataset, test_labels, batch_size, (75, 75))"
      ],
      "metadata": {
        "id": "0eWmLH6KbDhp"
      },
      "execution_count": 9,
      "outputs": []
    },
    {
      "cell_type": "code",
      "source": [
        "model.fit_generator(\n",
        "    generator=train_generator,\n",
        "    epochs=50,\n",
        "    validation_data=test_generator\n",
        ")"
      ],
      "metadata": {
        "colab": {
          "base_uri": "https://localhost:8080/"
        },
        "id": "s-9K7nJrcRxJ",
        "outputId": "4be1e71f-7a26-4d97-ae44-70200db9726a"
      },
      "execution_count": null,
      "outputs": [
        {
          "output_type": "stream",
          "name": "stdout",
          "text": [
            "Epoch 1/50\n"
          ]
        },
        {
          "output_type": "stream",
          "name": "stderr",
          "text": [
            "<ipython-input-10-bb11df01dedd>:1: UserWarning: `Model.fit_generator` is deprecated and will be removed in a future version. Please use `Model.fit`, which supports generators.\n",
            "  model.fit_generator(\n"
          ]
        },
        {
          "output_type": "stream",
          "name": "stdout",
          "text": [
            "1563/1563 [==============================] - 44s 23ms/step - loss: 2.1594 - accuracy: 0.1846 - val_loss: 2.0738 - val_accuracy: 0.2187\n",
            "Epoch 2/50\n",
            "1563/1563 [==============================] - 35s 22ms/step - loss: 1.9685 - accuracy: 0.2655 - val_loss: 2.0396 - val_accuracy: 0.2371\n",
            "Epoch 3/50\n",
            "1563/1563 [==============================] - 34s 22ms/step - loss: 1.9170 - accuracy: 0.2823 - val_loss: 1.9126 - val_accuracy: 0.2843\n",
            "Epoch 4/50\n",
            "1563/1563 [==============================] - 34s 22ms/step - loss: 1.8776 - accuracy: 0.2988 - val_loss: 1.8185 - val_accuracy: 0.3311\n",
            "Epoch 5/50\n",
            "1563/1563 [==============================] - 40s 25ms/step - loss: 1.8371 - accuracy: 0.3158 - val_loss: 1.7956 - val_accuracy: 0.3310\n",
            "Epoch 6/50\n",
            "1563/1563 [==============================] - 34s 22ms/step - loss: 1.8148 - accuracy: 0.3273 - val_loss: 1.8439 - val_accuracy: 0.3207\n",
            "Epoch 7/50\n",
            "1563/1563 [==============================] - 34s 22ms/step - loss: 1.7991 - accuracy: 0.3320 - val_loss: 1.7385 - val_accuracy: 0.3585\n",
            "Epoch 8/50\n",
            "1563/1563 [==============================] - 33s 21ms/step - loss: 1.7797 - accuracy: 0.3393 - val_loss: 1.7711 - val_accuracy: 0.3436\n",
            "Epoch 9/50\n",
            "1563/1563 [==============================] - 34s 22ms/step - loss: 1.7729 - accuracy: 0.3417 - val_loss: 1.7381 - val_accuracy: 0.3570\n",
            "Epoch 10/50\n",
            "1563/1563 [==============================] - 34s 22ms/step - loss: 1.7603 - accuracy: 0.3484 - val_loss: 1.7431 - val_accuracy: 0.3530\n",
            "Epoch 11/50\n",
            "1563/1563 [==============================] - 34s 22ms/step - loss: 1.7523 - accuracy: 0.3503 - val_loss: 1.7331 - val_accuracy: 0.3616\n",
            "Epoch 12/50\n",
            "1563/1563 [==============================] - 34s 22ms/step - loss: 1.7530 - accuracy: 0.3528 - val_loss: 1.7216 - val_accuracy: 0.3686\n",
            "Epoch 13/50\n",
            "1563/1563 [==============================] - 34s 22ms/step - loss: 1.7434 - accuracy: 0.3573 - val_loss: 1.7362 - val_accuracy: 0.3607\n",
            "Epoch 14/50\n",
            "1563/1563 [==============================] - 34s 22ms/step - loss: 1.7398 - accuracy: 0.3570 - val_loss: 1.7331 - val_accuracy: 0.3634\n",
            "Epoch 15/50\n",
            "1563/1563 [==============================] - 34s 22ms/step - loss: 1.7348 - accuracy: 0.3607 - val_loss: 1.6991 - val_accuracy: 0.3805\n",
            "Epoch 16/50\n",
            "1563/1563 [==============================] - 34s 22ms/step - loss: 1.7278 - accuracy: 0.3611 - val_loss: 1.6892 - val_accuracy: 0.3778\n",
            "Epoch 17/50\n",
            "1563/1563 [==============================] - 34s 22ms/step - loss: 1.7264 - accuracy: 0.3616 - val_loss: 1.7010 - val_accuracy: 0.3844\n",
            "Epoch 18/50\n",
            "1563/1563 [==============================] - 34s 22ms/step - loss: 1.7269 - accuracy: 0.3658 - val_loss: 1.7149 - val_accuracy: 0.3673\n",
            "Epoch 19/50\n",
            "1563/1563 [==============================] - 34s 22ms/step - loss: 1.7204 - accuracy: 0.3637 - val_loss: 1.7382 - val_accuracy: 0.3627\n",
            "Epoch 20/50\n",
            "1563/1563 [==============================] - 34s 22ms/step - loss: 1.7194 - accuracy: 0.3636 - val_loss: 1.7435 - val_accuracy: 0.3607\n",
            "Epoch 21/50\n",
            "1563/1563 [==============================] - 34s 22ms/step - loss: 1.7140 - accuracy: 0.3682 - val_loss: 1.6767 - val_accuracy: 0.3854\n",
            "Epoch 22/50\n",
            "1563/1563 [==============================] - 34s 22ms/step - loss: 1.7189 - accuracy: 0.3693 - val_loss: 1.7251 - val_accuracy: 0.3647\n",
            "Epoch 23/50\n",
            " 438/1563 [=======>......................] - ETA: 22s - loss: 1.7080 - accuracy: 0.3680"
          ]
        }
      ]
    }
  ]
}